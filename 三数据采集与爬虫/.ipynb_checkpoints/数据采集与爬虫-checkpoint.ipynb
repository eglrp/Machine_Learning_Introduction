{
 "cells": [
  {
   "cell_type": "code",
   "execution_count": null,
   "metadata": {
    "collapsed": true
   },
   "outputs": [],
   "source": [
    "\n",
    "\n",
    "import random\n",
    "import time\n",
    "\n",
    "import pandas as pd\n",
    "import requests\n",
    "from lxml import etree\n",
    "\n",
    "# 真实cookie\n",
    "Cookie = 'user_trace_token=20190312230635-bd10a4e8-55d7-48b5-962d-f9227b07ccd4; _ga=GA1.2.434082682.1552403204; LGUID=20190312230642-71a19b72-44d8-11e9-946e-5254005c3644; JSESSIONID=ABAAABAAAIAACBIDC1DB26FED5F93A2A2B73CA1A5C421FD; Hm_lvt_4233e74dff0ae5bd0a3d81c6ccf756e6=1557148390; LGSID=20190506211309-b17281e3-7000-11e9-8664-525400f775ce; PRE_UTM=; PRE_HOST=; PRE_SITE=; PRE_LAND=https%3A%2F%2Fwww.lagou.com%2F; index_location_city=%E5%85%A8%E5%9B%BD; _gid=GA1.2.1330006640.1557148395; TG-TRACK-CODE=index_search; _gat=1; LG_LOGIN_USER_ID=c6ffaba7ee92122f4b041f9a849d4f9d924b7edf620798a600169b4fff1a9f6d; LG_HAS_LOGIN=1; _putrc=5F44CFCCC08C9A2A123F89F2B170EADC; login=true; unick=%E9%AD%8F%E5%85%83%E5%AE%9D; showExpriedIndex=1; showExpriedCompanyHome=1; showExpriedMyPublish=1; hasDeliver=33; gate_login_token=9906db5b022596f1e3c42a1a991e55e88620b336119a01db8145d3c90d65c1be; SEARCH_ID=ec66f5ad9f234e27a58c0459542bff8e; X_HTTP_TOKEN=d3a07b50a9f6063e8269417551a0b095c1f90e316f; Hm_lpvt_4233e74dff0ae5bd0a3d81c6ccf756e6=1557149630; LGRID=20190506213348-94402a8b-7003-11e9-8665-525400f775ce'\n",
    "headers = {\n",
    "    'User-Agent': 'Mozilla/5.0 (Windows NT 10.0; Win64; x64) AppleWebKit/537.36 (KHTML, like Gecko) Chrome/74.0.3729.131 Safari/537.36',\n",
    "    'Cookie': Cookie\n",
    "}\n",
    "\n",
    "\n",
    "for i in range(1, 3):\n",
    "    time.sleep(random.randint(3, 10))\n",
    "    url = 'https://www.lagou.com/zhaopin/jiqixuexi/{}/?filterOption=2'.format(i)\n",
    "    print('正在抓取第{}页数据...'.format(i))\n",
    "\n",
    "    # 请求网页并解析\n",
    "    con = etree.HTML(requests.get(url, headers=headers).text)\n",
    "\n",
    "    # 使用xpath表达式抽取各个字段信息\n",
    "    job_name = [i for i in con.xpath('//a[@class=\"position_link\"]/h3/text()')]\n",
    "    job_address = [i for i in con.xpath(\"//a[@class='position_link']/span/em/text()\")]\n",
    "    job_company = [i for i in con.xpath(\"//div[@class='company_name']/a/text()\")]\n",
    "    job_salary = [i for i in con.xpath(\"//span[@class='money']/text()\")]\n",
    "    job_exp_edu = [i for i in con.xpath(\"//div[@class='li_b_l']/text()\")]\n",
    "    job_exp_edu2 = [i for i in [i.strip() for i in job_exp_edu] if i != '']\n",
    "    job_industry = [i for i in con.xpath(\"//div[@class='industry']/text()\")]\n",
    "    job_tempation = [i for i in con.xpath(\"//div[@class='list_item_bot']/div[@class='li_b_r']/text()\")]\n",
    "    job_links = [i for i in con.xpath(\"//div[@class='p_top']/a/@href\")]\n",
    "\n",
    "    # 获取详情页链接后采集详情页岗位描述信息\n",
    "    job_des = []\n",
    "    for link in job_links:\n",
    "        time.sleep(random.randint(3, 10))\n",
    "        con2 = etree.HTML(requests.get(url=link, headers=headers).text)\n",
    "        des = [[i.xpath('string(.)') for i in con2.xpath('//dd[@class=\"job_bt\"]/div/p')]]\n",
    "\n",
    "        job_des += des\n",
    "    break\n",
    "\n",
    "# 对数据进行字典封装\n",
    "dataset = {\n",
    "    '岗位名称': job_name,\n",
    "    '工作地址': job_address,\n",
    "    '公司': job_company,\n",
    "    '薪资': job_salary,\n",
    "    '经验学历': job_exp_edu2,\n",
    "    '所属行业': job_industry,\n",
    "    '岗位福利': job_tempation,\n",
    "    '任职要求': job_des\n",
    "}\n",
    "\n",
    "# 转化为数据框并存为csv\n",
    "data = pd.DataFrame(dataset)\n",
    "data.to_csv('machine_learning_hz_job2.csv')"
   ]
  }
 ],
 "metadata": {
  "kernelspec": {
   "display_name": "Python 3",
   "language": "python",
   "name": "python3"
  },
  "language_info": {
   "codemirror_mode": {
    "name": "ipython",
    "version": 3
   },
   "file_extension": ".py",
   "mimetype": "text/x-python",
   "name": "python",
   "nbconvert_exporter": "python",
   "pygments_lexer": "ipython3",
   "version": "3.7.3"
  }
 },
 "nbformat": 4,
 "nbformat_minor": 1
}
