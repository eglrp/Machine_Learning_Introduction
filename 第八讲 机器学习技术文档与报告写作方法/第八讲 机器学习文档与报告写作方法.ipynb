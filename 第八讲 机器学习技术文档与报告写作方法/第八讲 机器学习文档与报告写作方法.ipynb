{
 "cells": [
  {
   "cell_type": "markdown",
   "metadata": {},
   "source": [
    "### 1.R语言/RStudio安装"
   ]
  },
  {
   "cell_type": "markdown",
   "metadata": {},
   "source": [
    "- R语言官网：https://www.r-project.org/\n",
    "- RStudio官网：https://www.rstudio.com/  "
   ]
  },
  {
   "cell_type": "markdown",
   "metadata": {},
   "source": [
    "![RStudio](./RStudio.png)"
   ]
  },
  {
   "cell_type": "markdown",
   "metadata": {},
   "source": [
    "### 2.Rmarkdown安装与用法简介"
   ]
  },
  {
   "cell_type": "markdown",
   "metadata": {},
   "source": [
    "install.packages('knitr')\n",
    "<br>install.packages('rmarkdown')"
   ]
  },
  {
   "cell_type": "markdown",
   "metadata": {},
   "source": [
    "![rmarkdown](./rmarkdown.jpg)"
   ]
  },
  {
   "cell_type": "markdown",
   "metadata": {},
   "source": [
    "- Rmd的文档结构\n",
    "  - ---s 符号内的 YAML 渲染参数\n",
    "  - 可自由写作的 text 文本\n",
    "  - 代码块"
   ]
  },
  {
   "cell_type": "markdown",
   "metadata": {},
   "source": [
    "- YAML 参数\n",
    "YAML 渲染参数一般位于 Rmd 的开头，通常用来指定文档的标题、作者信息、写作时间、文档输出方式以及其他一些信息。YAML 参数以上下两个---符号来划定该结构。"
   ]
  },
  {
   "cell_type": "markdown",
   "metadata": {},
   "source": [
    "- Rmd的基本语法"
   ]
  },
  {
   "cell_type": "markdown",
   "metadata": {},
   "source": [
    "R Markdown 作为 R语言和 markdown的结合的产物，完全接收了 markdown的基本语法，markdown 通过一种叫 pandoc 的标记语言转化工具将我们设定的各种语法格式转化为文档中想要实现的效果。"
   ]
  },
  {
   "cell_type": "markdown",
   "metadata": {},
   "source": [
    "- markdown常见语法格式\n",
    "- 标题设置\n",
    "- 插入代码块\n",
    "- 创建输出物\n",
    "   - HTML\n",
    "   - pdf\n",
    "   - word"
   ]
  },
  {
   "cell_type": "markdown",
   "metadata": {},
   "source": [
    "- Rmd操作演示"
   ]
  },
  {
   "cell_type": "markdown",
   "metadata": {},
   "source": [
    "### 3.技术文档之Rmd与Jupyter对比"
   ]
  },
  {
   "cell_type": "markdown",
   "metadata": {},
   "source": [
    "https://yihui.name/cn/2017/06/notebooks/"
   ]
  },
  {
   "cell_type": "markdown",
   "metadata": {},
   "source": [
    "Jupyter = Julia + Python + R\n",
    "<br>Jupyter 可支持二十多种语言内核\n",
    "<br>Rmd仅支持SQL/Python/R等"
   ]
  },
  {
   "cell_type": "markdown",
   "metadata": {},
   "source": [
    "- 技术文档：非正式性质的、操作流程手册\n",
    "- Jupyter Notebook\n",
    "- Rmarkdown\n",
    "- kaggle kernel"
   ]
  },
  {
   "cell_type": "markdown",
   "metadata": {},
   "source": [
    "- 机器学习数据操作流程文档写作顺序（文字描述+代码）\n",
    "   - 数据采集（可选）\n",
    "   - 数据读入\n",
    "   - 数据清洗\n",
    "   - EDA与可视化\n",
    "   - 特征工程\n",
    "   - 建模过程\n",
    "   - 调优过程（特征工程/机器学习建模/调参/优化）\n",
    "   - 结果输出"
   ]
  },
  {
   "cell_type": "markdown",
   "metadata": {},
   "source": [
    "- 以EDA与可视化阶段为例\n",
    "<br>推荐使用Jupyter"
   ]
  },
  {
   "cell_type": "markdown",
   "metadata": {},
   "source": [
    "### 4.机器学习分析报告写作方法"
   ]
  },
  {
   "cell_type": "markdown",
   "metadata": {},
   "source": [
    "- 分析报告不是技术实现过程，需要从业务角度根据数据分析结果来给出结论参考"
   ]
  },
  {
   "cell_type": "markdown",
   "metadata": {},
   "source": [
    "- 分析报告一定要是文字报告加图表配套\n",
    "- 要清楚分析报告的受众，一般是给领导看\n",
    "- 不能出现太多的数理和技术字眼\n",
    "- 注意格式：文字和图表"
   ]
  },
  {
   "cell_type": "markdown",
   "metadata": {},
   "source": [
    "一份完整的数据分析/机器学习分析报告通常包括：\n",
    "- 背景介绍\n",
    "   - 业务背景介绍\n",
    "   - 需求分析\n",
    "   - 目标\n",
    "   - ...\n",
    "   \n",
    "- 数据来源和数据说明\n",
    "   - 数据采集描述\n",
    "   - 数据基本状况说明\n",
    "   - 预处理简要描述\n",
    "   - ...\n",
    "   \n",
    "- 探索性数据分析与数据可视化\n",
    "   - 描述性数据分析\n",
    "   - 目标变量重点探索\n",
    "   - 各种绘图与数据可视化参考\n",
    "   - 特征工程相关\n",
    "   - ...\n",
    "   \n",
    "- 机器学习模型部分\n",
    "   - 模型尝试和实验过程描述\n",
    "   - 模型诊断与调优\n",
    "   - 模型结果展示\n",
    "   - ...\n",
    "\n",
    "- 结论与建议\n",
    "   - 根据模型结果给出结论\n",
    "   - 模型不足之处\n",
    "   - 后续的研究工作\n",
    "   - ..."
   ]
  },
  {
   "cell_type": "markdown",
   "metadata": {},
   "source": [
    "### 5.实例：数据相关岗位薪资水平影响因素研究分析报告（简要框架）"
   ]
  },
  {
   "cell_type": "markdown",
   "metadata": {},
   "source": [
    "- 背景介绍\n",
    "   - 大数据、人工智能兴起，企业和高校对数据科学人才需求加大\n",
    "   - 从政府、高校学界、公司业界以及个人等几个方面写\n",
    "   - 最好能找一些人才需求的数据图表、历年各专业毕业生薪资对比\n",
    "   \n",
    "- 数据来源和数据说明\n",
    "   - 从哪采集的数据（不讲采集技术）\n",
    "   - 样本量整体描述\n",
    " \n",
    "- 探索性数据分析与数据可视化\n",
    "   - 不再是此前在jupter里面的无目标的探索，要根据此前探索的结果进行方向性整合\n",
    "   - 可视化图表需要简单、有效、美观\n",
    "   - 直接展示特征工程的结果，用了哪些特征，创建了哪些新特征，丢弃了哪些特征等等，而不是处理过程\n",
    "   \n",
    "- 机器学习模型部分\n",
    "   - 直接展示最后用了哪一个模型，或者是融合了哪些模型\n",
    "   - 模型诊断调优不需要写太细\n",
    "   - 给出特征重要性，解读模型结果，比如说影响数据科学岗位薪资水平的众多因素中，学历和经验影响最大，会Python/R等编程语言的岗位要比不会的薪资高出许多等等\n",
    "  \n",
    "- 结论与建议\n",
    "   - 根据模型结果给出结论\n",
    "   - 模型不足之处与深度可挖掘的部分\n"
   ]
  },
  {
   "cell_type": "code",
   "execution_count": null,
   "metadata": {},
   "outputs": [],
   "source": []
  }
 ],
 "metadata": {
  "kernelspec": {
   "display_name": "Python 3",
   "language": "python",
   "name": "python3"
  },
  "language_info": {
   "codemirror_mode": {
    "name": "ipython",
    "version": 3
   },
   "file_extension": ".py",
   "mimetype": "text/x-python",
   "name": "python",
   "nbconvert_exporter": "python",
   "pygments_lexer": "ipython3",
   "version": "3.7.3"
  }
 },
 "nbformat": 4,
 "nbformat_minor": 2
}
